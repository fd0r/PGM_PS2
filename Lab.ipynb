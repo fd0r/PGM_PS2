{
 "cells": [
  {
   "cell_type": "markdown",
   "metadata": {},
   "source": [
    "## Question 1\n",
    "$\\frac{\\pi_i \\mathcal{N}(x ; \\mu_i , \\Sigma_i))}{\\Sigma_{j=1}^{K}\\pi_j \\mathcal{N}(x ; \\mu_j , \\Sigma_j)} \n",
    "= \\exp( \\log(\\pi_i \\mathcal{N}(x ; \\mu_i , \\Sigma_i)) - \\log(\\Sigma_{j=1}^{K}\\pi_j \\mathcal{N}(x ; \\mu_j , \\Sigma_j)) \n",
    "= \\exp ( \\log ( \\pi_i ) + \\log( \\mathcal{N} (x ; \\mu_i , \\Sigma_i ) )  - \\log ( \\Sigma_{j=1}^{K} \\pi_j \\mathcal{N} ( x ; \\mu_j , \\Sigma_j ) ) )$\n",
    "\n",
    "\n",
    "With:\n",
    "\n",
    "$\\mathcal{N}(x ; \\mu , \\Sigma)) = (2\\pi)^{-\\frac{k}{2}}\\det(\\Sigma)^{\\frac{1}{2}}\\exp(\\frac{1}{2}(x - \\mu)^T \\Sigma^{-1} (x-\\mu))$\n",
    "\n",
    "$= \\exp ( \\log ( \\pi_i ) + \\log( (2\\pi)^{-\\frac{k}{2}}\\det(\\Sigma_i)^{\\frac{1}{2}}\\exp(\\frac{1}{2}(x - \\mu_i)^T {\\Sigma_i}^{-1} (x-\\mu_i)) )  - \\log ( \\Sigma_{j=1}^{K} \\pi_j (2\\pi)^{-\\frac{k}{2}}\\det(\\Sigma_j)^{\\frac{1}{2}}\\exp(\\frac{1}{2}(x - \\mu_j)^T {\\Sigma_j}^{-1} (x-\\mu_j)) ) )$\n",
    "\n",
    "$= \\exp ( \\log ( \\pi_i ) -\\frac{k}{2}\\log(2\\pi) + {\\frac{1}{2}}\\log( \\det(\\Sigma_i)) + (\\frac{1}{2}(x - \\mu_i)^T {\\Sigma_i}^{-1} (x-\\mu_i)) )  - \\log ( \\Sigma_{j=1}^{K} \\pi_j (2\\pi)^{-\\frac{k}{2}}\\det(\\Sigma_j)^{\\frac{1}{2}}\\exp(\\frac{1}{2}(x - \\mu_j)^T {\\Sigma_j}^{-1} (x-\\mu_j)) ) )$\n",
    "\n",
    "We have: $l_i =  \\log ( \\pi_i ) -\\frac{k}{2}\\log(2\\pi) + {\\frac{1}{2}}\\log( \\det(\\Sigma_i)) + (\\frac{1}{2}(x - \\mu_i)^T {\\Sigma_i}^{-1} (x-\\mu_i)) ) $ with $ \\det(\\Sigma_i) = \\Pi {\\lambda_i}^k$ where $\\{ {\\lambda_i}^k \\}_k$ are the eigen values of $ \\Sigma_i $  \n",
    "\n",
    "Choleski??"
   ]
  },
  {
   "cell_type": "markdown",
   "metadata": {},
   "source": [
    "## Question 2\n",
    "\n",
    "We need to to compute the next step of the parameters of our model: $\\pi_{1:K}^{(t+1)}$ $\\mu_{1:K}^{(t+1)}$ $\\Sigma_{1:K}^{(t+1)}$.\n",
    "\n",
    "***"
   ]
  },
  {
   "cell_type": "markdown",
   "metadata": {},
   "source": [
    "### $\\mu$\n",
    "\n",
    "- Let's first compute: $ \\nabla_{\\mu_i}L_t(\\theta) $\n",
    "\n",
    "$L_t(\\mu + h, \\theta) = \\Sigma_{n=1}^{N} \\Sigma_{i=1}^{K} \\gamma_{i}^{(t)} (x_n) (\\frac{1}{2}\\log |\\Sigma_i| - \\frac{1}{2}(x_n - \\mu_i - h)^T \\Sigma_{i}^{-1} (x_n - \\mu_i - h) ) + cste$\n",
    "\n",
    "We have:\n",
    "\n",
    "$(x_n - \\mu_i - h)^T \\Sigma_{i}^{-1} (x_n - \\mu_i - h) = ((x_n - \\mu_i)^T - h^T) [\\Sigma_{i}^{-1} (x_n - \\mu_i) -\\Sigma_{i}^{-1} h)]$\n",
    "\n",
    "$ = (x_n - \\mu_i)^T \\Sigma_{i}^{-1}  (x_n - \\mu_i) - h^T \\Sigma_{i}^{-1} (x_n - \\mu_i) - (x_n - \\mu_i)^T \\Sigma_{i}^{-1} h + h^T  \\Sigma_{i}^{-1} h - 2 (x_n - \\mu_i)^T \\Sigma_{i}^{-1} h $\n",
    "\n",
    "$ \\nabla_{\\mu_i}L_t(\\theta) = \\Sigma_{n=1}^{N} \\gamma_{i}^{(t)} (x_n - \\mu_i)^T \\Sigma_{i}^{-1}$\n",
    "\n",
    "\n",
    "$$ \\Sigma_{n=1}^{N} \\gamma_{i}^{(t)}(x_n)x_{n}^{T}\\Sigma_{i}^{-1} = \\Sigma_{n=1}^{N}\\gamma_{i}^{(t)}(x_n)\\mu_{i}^{T}\\Sigma_{i}^{-1} $$\n",
    "\n",
    "$$ \\iff\\Sigma_{n=1}^{N} \\gamma_{i}^{(t)}(x_n)x_{n}^{T}\\Sigma_{i}^{-1} = \\mu_{i}^{T}\\Sigma_{n=1}^{N}\\gamma_{i}^{(t)}(x_n)\\Sigma_{i}^{-1}$$\n",
    "\n",
    "$$\\iff \\mu_i = \\frac{\\Sigma_{n=1}^{N}\\gamma_{i}^{(t)}(x_n)x_n}{\\Sigma_{n=1}^{N}\\gamma_{i}^{(t)}(x_n)} $$\n",
    "\n",
    "\n",
    "***"
   ]
  },
  {
   "cell_type": "markdown",
   "metadata": {},
   "source": [
    "### $\\Sigma$\n",
    "\n",
    "- Let's focus on $ \\nabla_{\\Sigma_i}L_t(\\theta) $ now.\n",
    "\n",
    "$L_t(\\Sigma + H, \\theta) = \\Sigma_{n=1}^{N} \\Sigma_{i=1}^{K} \\gamma_{i}^{(t)}(x_n) [ - \\frac{1}{2} \\log |\\Sigma_i + H| - \\frac{1}{2}  (x_n - \\mu_i)^T (\\Sigma_i + H)^{-1}(x_n - \\mu_i))] + \\Sigma_{n=1}^{N}\\Sigma_{i=1}^{K}\\gamma_{i}^{(t)}(x_n)\\log(\\pi_i) $\n",
    "\n",
    "$= \\Sigma_{n=1}^{N}\\Sigma_{k=1}^{K} \\gamma_{i}^{(t)}(x_n)[ -\\frac{1}{2}\\log(| \\Sigma_i|) - \\frac{1}{2}tr(\\Sigma_{i}^{-1}H) +o(||H||) - \\frac{1}{2}( (x_n - \\mu_i)^T \\Sigma_{i}^{-1} (x_n - \\mu_i) -  <\\Sigma_{i}^{-1}(x_n - \\mu_i)(x_n - \\mu_i)^T \\Sigma_{i}^{-1}, H> +o(||H||))] + \\Sigma_{n=1}^{N}\\Sigma_{i=1}^{K}\\gamma_{i}^{(t)}(x_n)\\log(\\pi_i)$\n",
    "\n",
    "\n",
    "We have:\n",
    "\n",
    "$\\det(\\Sigma_i + H) \n",
    "= \\det [\\Sigma_i (I + \\Sigma_{i}^{-1} H)] = \\det (\\Sigma_i) \\det(I +  \\Sigma_{i}^{-1} H)) \n",
    "= \\det(\\Sigma_i)(1 + tr(\\Sigma_{i}^{-1}H) + o(||H||))$\n",
    "\n",
    "and $tr(\\Sigma_{i}^{-1}H) = <(\\Sigma_{i}^{-1})^T, H>$ \n",
    "\n",
    "thus we have:\n",
    "\n",
    "$\\det(\\Sigma_i + H) = \\det (\\Sigma_i) + <\\det (\\Sigma_i)(\\Sigma_{i}^{-1})^T, H> + o(||H||)) $\n",
    "\n",
    "$\\log[\\det(\\Sigma_i + H)] = \\log( \\det (\\Sigma_i) ) + \\log(<\\det (\\Sigma_i)(\\Sigma_{i}^{-1})^T, H>) + o(||H||)) $\n",
    "\n",
    "<!---\n",
    "    T'es sur de toi sur le log et le o(||H||)?\n",
    "-->\n",
    "\n",
    "    $$\\Sigma_{n=1}^{N} \\gamma_{i}^{(t)}(x_n) (-\\frac{1}{2}\\Sigma_{i}^{-1} + \\frac{1}{2}\\Sigma_{i}^{-1} (x_n - \\mu_i)(x_n - \\mu_i)^T \\Sigma){i}^{-1}) = 0$$\n",
    "\n",
    "$$\\iff - \\Sigma_{n=1}^{N}\\gamma_{i}^{(t)}(x_n)\\Sigma_{i}^{-1} + \\Sigma_{n=1}^{N}\\gamma_{i}^{(t)}(x_n) \\Sigma_{i}^{-1} (x_n - \\mu_i)(x_n - \\mu_i)^T \\Sigma_{i}^{-1} = 0$$\n",
    "\n",
    "$$\\iff \\Sigma_{n=1}^{N}\\gamma_{i}^{(t)}(x_n)\\Sigma_{i}^{-1} = \\Sigma_{n=1}^{N}\\gamma_{i}^{(t)}(x_n) \\Sigma_{i}^{-1} (x_n - \\mu_i)(x_n - \\mu_i)^T \\Sigma_{i}^{-1}$$\n",
    "\n",
    "$$\\iff \\Sigma_{n=1}^{N}\\gamma_{i}^{(t)}(x_n) = \\Sigma_{n=1}^{N}\\gamma_{i}^{(t)} (x_n)\\Sigma_{i}^{-1} (x_n - \\mu_i)(x_n - \\mu_i)^T$$\n",
    "\n",
    "$$\\iff \\Sigma_{i} = \\frac{\\Sigma_{n=1}^{N}\\gamma_{i}^{(t)}(x_n) (x_n - \\mu_i)(x_n - \\mu_i)^T}{\\Sigma_{n=1}^{N}\\gamma_{i}^{(t)}(x_n)}$$\n",
    "\n",
    "\n",
    "***"
   ]
  },
  {
   "cell_type": "markdown",
   "metadata": {},
   "source": [
    "### $\\pi$\n",
    "\n",
    "We have the constraint on $\\pi$ that $\\Sigma_{i}\\pi_i = 1$\n",
    "\n",
    "$\\forall$ $i$ we will maximize $f(\\pi_i, \\lambda) = \\Sigma_{n=1}^{N}\\gamma_{i}^{t}(x_n) \\log(\\pi_i) + \\lambda (\\Sigma_{k=1}^{K}\\pi_k - 1)$\n",
    "\n",
    "$\\pi_i \\in \\mathbb{R}$\n",
    "\n",
    "$f'(\\pi_i , \\lambda) = \\Sigma_{n=1}^{N} \\gamma_{i}^{(t)}(x_n)\\frac{1}{\\pi_i} + \\lambda (\\frac{\\partial (\\Sigma_{k=1}^{K} \\pi_k - 1)}{\\partial \\pi_i}) = \\Sigma_{n=1}^{N} \\gamma_{i}^{(t)}(x_n)\\frac{1}{\\pi_i} + \\lambda$\n",
    "\n",
    "$f'(\\pi_i , \\lambda) = 0 \\iff \\Sigma_{n=1}^{N} \\gamma_{i}^{(t)}(x_n) = - \\lambda \\pi_i$\n",
    "\n",
    "$\\implies \\Sigma_{i=1}^{K}( \\Sigma_{n=1}^{N} \\gamma_{i}^{(t)}(x_n) ) = \n",
    "\\lambda \\Sigma_{i=1}^{K} ( \\pi_i )$\n",
    "\n",
    "$\\implies \\lambda = - \\Sigma_{i=1}^{K}\\Sigma_{n=1}^{N}\\gamma_{i}^{(t)}$\n",
    "\n",
    "But $\\Sigma_{i=1}^{K} \\gamma_{i}^{(t)} = 1$ thus $\\lambda = -N$\n",
    "\n",
    "Then: \n",
    "\n",
    "$\\Sigma_{n=1}^{N}\\gamma_{i}^{(t)}\\frac{1}{\\pi_i} = N $\n",
    "\n",
    "$\\iff \\frac{1}{\\pi_i} = \\frac{N}{\\Sigma_{n=1}^{N}\\gamma_{i}^{(t)}}$\n",
    "\n",
    "$\\iff \\pi_i = \\frac{\\Sigma_{n=1}^{N}\\gamma_{i}^{(t)}}{N}$\n",
    "\n",
    "\n",
    "## Question 3\n",
    "1. First we generate some synthetic data"
   ]
  },
  {
   "cell_type": "code",
   "execution_count": 1,
   "metadata": {},
   "outputs": [],
   "source": [
    "# Imports\n",
    "import numpy as np\n",
    "%matplotlib inline\n",
    "import matplotlib.pyplot as plt\n",
    "import scipy.stats"
   ]
  },
  {
   "cell_type": "code",
   "execution_count": 2,
   "metadata": {},
   "outputs": [],
   "source": [
    "# Parameters\n",
    "N = 1000\n",
    "K = 3\n",
    "pis = [0.3, 0.2, 0.5]\n",
    "mus = [[0, 0], [1, 2], [2, 0]]\n",
    "sigmas = [\n",
    "    [[1.00, -0.25],\n",
    "     [-0.25, 0.50]], \n",
    "    [[0.50, 0.25],\n",
    "     [ 0.25, 0.50]], \n",
    "    [[0.50, -0.25],\n",
    "     [-0.25, 1]]]\n",
    "assert K == len(pis) == len(mus) == len(sigmas)\n",
    "assert sum(pis) == 1\n",
    "assert len(sigmas[0]) == len(sigmas[0][0]) == len(mus[0]) # Must be checked for all i,j"
   ]
  },
  {
   "cell_type": "code",
   "execution_count": 3,
   "metadata": {},
   "outputs": [],
   "source": [
    "# Data generation\n",
    "gmm_sample = np.zeros((N, len(mus[0])))  # Initialisation\n",
    "xis = np.random.multinomial(1, pis, size=N)  # To which gaussian do we belong\n",
    "xis = np.array(xis, dtype=bool)\n",
    "for gaussian_idx in range(K):\n",
    "    gmm_sample[xis[:,gaussian_idx]] = np.random.multivariate_normal(\n",
    "        mean=mus[gaussian_idx], cov=sigmas[gaussian_idx], size=N)[xis[:,gaussian_idx]]"
   ]
  },
  {
   "cell_type": "code",
   "execution_count": 4,
   "metadata": {},
   "outputs": [
    {
     "data": {
      "image/png": "[encoded data removed]",
      "text/plain": [
       "<Figure size 648x432 with 1 Axes>"
      ]
     },
     "metadata": {
      "needs_background": "light"
     },
     "output_type": "display_data"
    }
   ],
   "source": [
    "# Plot generated data\n",
    "plt.figure(figsize=(9,6))\n",
    "plt.plot()\n",
    "plt.title(\"{}-gaussian mixture\".format(K))\n",
    "for gaussian_idx in range(K):\n",
    "    plt.scatter(gmm_sample[:,0][xis[:,gaussian_idx]], gmm_sample[:,1][xis[:,gaussian_idx]])\n",
    "plt.show()\n",
    "plt.close()"
   ]
  },
  {
   "cell_type": "markdown",
   "metadata": {},
   "source": [
    "- EM Algorithm"
   ]
  },
  {
   "cell_type": "code",
   "execution_count": 39,
   "metadata": {},
   "outputs": [],
   "source": [
    "\"\"\"\n",
    "\n",
    "K mixtures\n",
    "N samples\n",
    "d dimension of the samples\n",
    "\n",
    "\"\"\"\n",
    "\n",
    "def comp_expectation(data, means, covariances, membership_weights, i, n):\n",
    "    d = len(data[0])\n",
    "    eig_values, eig_vectors = np.linalg.eig(covariances[i])\n",
    "    log_det_sigma = sum([np.log(eig_values[j]) for j in range(len(eig_values))])\n",
    "    return( np.float(np.log(membership_weights[i]) - (d/2)*np.log(np.pi * 2) - (1/2)*log_det_sigma \n",
    "            - (1/2)*(data[n]-means[i])[np.newaxis,:].dot(np.linalg.inv(covariances[i]).dot((data[n]-means[i])[:,np.newaxis]))) )\n",
    "\n",
    "def v_i(data, means, covariances, membership_weights, i, n):\n",
    "    \"\"\"\n",
    "    Compute log(Pi_i * N(xn ; mu_i, sigma_i)) in a stable way\n",
    "    \"\"\"\n",
    "    d = len(data[0])\n",
    "    eig_values, eig_vectors = np.linalg.eig(covariances[i])\n",
    "    log_det_sigma = sum([np.log(eig_values[j]) for j in range(len(eig_values))])\n",
    "    return( np.float(np.log(membership_weights[i]) - (d/2)*np.log(np.pi * 2) - (1/2)*log_det_sigma\n",
    "            - (1/2)*(data[n]-means[i])[np.newaxis,:].dot(np.linalg.inv(covariances[i]).dot((data[n]-means[i])[:,np.newaxis]))) )\n",
    "\n",
    "def sum_v_i(data, means, covariances, membership_weights, n):\n",
    "    \"\"\"\n",
    "    Compute sum over i of log(Pi_i * N(xn ; mu_i, sigma_i)) in a stable way\n",
    "    Log sum exp trick\n",
    "    \"\"\"\n",
    "    K = len(means)\n",
    "    all_v = [v_i(data, means, covariances, membership_weights, i, n) for i in range(K)]\n",
    "    max_v = np.max(np.abs(all_v))\n",
    "    return np.log(np.sum(np.exp(all_v + max_v))) - max_v\n",
    "\n",
    "def M_step(data, gammas):\n",
    "    \"\"\"\n",
    "    Maximization step\n",
    "    We try to maximize the parameters given the weights w_ij\n",
    "    gammas: R^{K*N}\n",
    "    \"\"\"\n",
    "    # Simple variables for computations\n",
    "    K = len(gammas)\n",
    "    d = len(data[0])\n",
    "    N = len(data)   \n",
    "    \n",
    "    Nk = gammas.sum(axis=1)\n",
    "\n",
    "    means = [1/Nk[j] * (np.array([[gammas[i,n]*data[n] for i in range(K)] for n in range(N)]).sum(axis=0))[j] for j in range(K)]\n",
    "    covariances = [1/Nk[j] * (np.array([[gammas[i,n]*(data[n]-means[i])[:,np.newaxis].dot((data[n]-means[i])[np.newaxis,:]) for i in range(K)] for n in range(N)]).sum(axis=0))[j] for j in range(K)]\n",
    "    pis = Nk/N\n",
    "    \n",
    "    return means, covariances, pis\n",
    "\n",
    "def E_step(data, means, covariances, membership_weights):\n",
    "    \"\"\"\n",
    "    Estimation step\n",
    "    We compute w_ij given the current parameters\n",
    "    means: R^{K*d}\n",
    "    covariances: R^{K*d*d}\n",
    "    membership_weights: R^{K} ( pi_k )\n",
    "    \"\"\"\n",
    "    # Simple variables for computations\n",
    "    K = len(membership_weights)\n",
    "    d = len(data[0])\n",
    "    N = len(data)\n",
    "    \n",
    "    log_normalisation = np.array([sum_v_i(data, means, covariances, membership_weights, n) for n in range(N)])\n",
    "    log_gamma_k = []\n",
    "    for gaussian_idx in range(K):\n",
    "        log_gamma_k.append(np.array([v_i(data, means, covariances, membership_weights, gaussian_idx, n) for n in range(N)]) - log_normalisation)\n",
    "    \n",
    "    log_gamma_k = np.array(log_gamma_k)\n",
    "    gamma_k = np.exp(log_gamma_k)\n",
    "    \n",
    "    log_expectation = np.sum([[gamma_k[i,n]*comp_expectation(data, means, covariances, membership_weights, i, n) for i in range(K)] for n in range(N)])\n",
    "    \n",
    "    # TODO: Change det to https://docs.scipy.org/doc/numpy/reference/generated/numpy.linalg.slogdet.html#numpy.linalg.slogdet\n",
    "\n",
    "    return log_expectation, gamma_k\n",
    "\n",
    "def EM(data, epsilon, means_0, covariances_0, membership_weights_0):\n",
    "    \"\"\"\n",
    "    EM Algorithm\n",
    "    epsilon: threshold\n",
    "    \"\"\"\n",
    "    \n",
    "    delta = 1000\n",
    "    \n",
    "    means_t = means_0\n",
    "    covariances_t = covariances_0\n",
    "    membership_weights_t = membership_weights_0\n",
    "    \n",
    "    value_t_1, gammas_t = E_step(data = data, means = means_t, covariances = covariances_t,\n",
    "                                 membership_weights = membership_weights_t)\n",
    "    \n",
    "    while delta > epsilon :\n",
    "        means_t, covariances_t, membership_weights_t = M_step(data = data, gammas = gammas_t)\n",
    "        value_t, gammas_t = E_step(data = data, means = means_t, covariances = covariances_t,\n",
    "                                   membership_weights = membership_weights_t)\n",
    "        delta = value_t - value_t_1\n",
    "        value_t_1 = value_t\n",
    "        \n",
    "    return means_t, covariances_t, membership_weights_t"
   ]
  },
  {
   "cell_type": "code",
   "execution_count": 47,
   "metadata": {},
   "outputs": [],
   "source": [
    "# UNSTABLE ONE\n",
    "\n",
    "\"\"\"\n",
    "\n",
    "K mixtures\n",
    "N samples\n",
    "d dimension of the samples\n",
    "\n",
    "\"\"\"\n",
    "\n",
    "def comp_expectation_unstable(data, means, covariances, membership_weights,i,n):\n",
    "    d = len(data[0])\n",
    "    return( np.float(np.log(membership_weights[i]) - (d/2)*np.log(np.pi * 2) - (1/2)*np.log(np.linalg.det(covariances[i])) \n",
    "             - (1/2)*(data[n] - means[i])[np.newaxis,:].dot(np.linalg.inv(covariances[i]).dot((data[n] - means[i])[:,np.newaxis]))) )\n",
    "\n",
    "\n",
    "def M_step_unstable(data, gammas):\n",
    "    \"\"\"\n",
    "    Maximization step\n",
    "    We try to maximize the parameters given the weights w_ij\n",
    "    gammas: R^{K*N}\n",
    "    \"\"\"\n",
    "    # Simple variables for computations\n",
    "    K = len(gammas)\n",
    "    d = len(data[0])\n",
    "    N = len(data)   \n",
    "    \n",
    "    Nk = gammas.sum(axis=1)\n",
    "\n",
    "    means = [1/Nk[j] * (np.array([[gammas[i,n]*data[n] for i in range(K)] for n in range(N)]).sum(axis=0))[j] for j in range(K)]\n",
    "    covariances = [1/Nk[j] * (np.array([[gammas[i,n]*(data[n]-means[i])[:,np.newaxis].dot((data[n]-means[i])[np.newaxis,:]) for i in range(K)] for n in range(N)]).sum(axis=0))[j] for j in range(K)]\n",
    "    pis = Nk/N\n",
    "    \n",
    "    return means, covariances, pis\n",
    "\n",
    "def E_step_unstable(data, means, covariances, membership_weights):\n",
    "    \"\"\"\n",
    "    Estimation step\n",
    "    We compute w_ij given the current parameters\n",
    "    means: R^{K*d}\n",
    "    covariances: R^{K*d*d}\n",
    "    membership_weights: R^{K} ( pi_k )\n",
    "    \"\"\"\n",
    "    # Simple variables for computations\n",
    "    K = len(membership_weights)\n",
    "    d = len(data[0])\n",
    "    N = len(data)\n",
    "    \n",
    "    normalisation = np.array([membership_weights[i]*scipy.stats.multivariate_normal.pdf(gmm_sample, mean=means[i], cov=covariances[i]) for i in range(K)]).sum(axis=0)\n",
    "    gamma_k = []\n",
    "    for gaussian_idx in range(K):\n",
    "        gamma_k.append(membership_weights[gaussian_idx]*scipy.stats.multivariate_normal.pdf(gmm_sample, mean=means[gaussian_idx], cov=covariances[gaussian_idx])/normalisation)\n",
    "    gamma_k = np.array(gamma_k)\n",
    "    \n",
    "    log_exp = np.sum([[gamma_k[i,n]*comp_expectation_unstable(data, means, covariances, membership_weights, i, n) for i in range(K)] for n in range(N)])\n",
    "    \n",
    "    # TODO: Change det to https://docs.scipy.org/doc/numpy/reference/generated/numpy.linalg.slogdet.html#numpy.linalg.slogdet\n",
    "    \n",
    "    return log_exp, gamma_k\n",
    "\n",
    "def EM(data, epsilon, means_0, covariances_0, membership_weights_0):\n",
    "    \"\"\"\n",
    "    EM Algorithm\n",
    "    \"\"\"\n",
    "    \n",
    "    delta = 1000\n",
    "    \n",
    "    means_t = means_0\n",
    "    covariances_t = covariances_0\n",
    "    membership_weights_t = membership_weights_0\n",
    "    \n",
    "    value_t_1, gammas_t = E_step(data = data, means = means_t, covariances = covariances_t,\n",
    "                                 membership_weights = membership_weights_t)\n",
    "    \n",
    "    while delta > epsilon :\n",
    "        means_t, covariances_t, membership_weights_t = M_step(data = data, gammas = gammas_t)\n",
    "        value_t, gammas_t = E_step(data = data, means = means_t, covariances = covariances_t,\n",
    "                               membership_weights = membership_weights_t)\n",
    "        delta = value_t - value_t_1\n",
    "        value_t_1 = value_t\n",
    "    return means_t, covariances_t, membership_weights_t"
   ]
  },
  {
   "cell_type": "code",
   "execution_count": 41,
   "metadata": {},
   "outputs": [],
   "source": [
    "value, gammas = E_step(data=gmm_sample,\n",
    "                       means=np.array(mus), \n",
    "                       covariances=np.array(sigmas),\n",
    "                       membership_weights=np.ones(3)/3)"
   ]
  },
  {
   "cell_type": "code",
   "execution_count": 48,
   "metadata": {},
   "outputs": [],
   "source": [
    "value_u, gammas_u = E_step_unstable(data=gmm_sample,\n",
    "                       means=np.array(mus), \n",
    "                       covariances=np.array(sigmas),\n",
    "                       membership_weights=np.ones(3)/3)"
   ]
  },
  {
   "cell_type": "code",
   "execution_count": 49,
   "metadata": {},
   "outputs": [
    {
     "data": {
      "text/plain": [
       "-3480.323326456741"
      ]
     },
     "execution_count": 49,
     "metadata": {},
     "output_type": "execute_result"
    }
   ],
   "source": [
    "value_u"
   ]
  },
  {
   "cell_type": "code",
   "execution_count": 50,
   "metadata": {},
   "outputs": [
    {
     "data": {
      "text/plain": [
       "-3480.323326456741"
      ]
     },
     "execution_count": 50,
     "metadata": {},
     "output_type": "execute_result"
    }
   ],
   "source": [
    "value"
   ]
  },
  {
   "cell_type": "code",
   "execution_count": 51,
   "metadata": {},
   "outputs": [
    {
     "data": {
      "text/plain": [
       "array([[2.66659722e-02, 6.81577592e-05, 1.55921076e-02, ...,\n",
       "        1.88907910e-02, 6.68364452e-01, 5.31177751e-02],\n",
       "       [8.99672043e-08, 9.26975300e-01, 6.23846016e-01, ...,\n",
       "        4.88024653e-09, 2.73102069e-02, 9.14036569e-01],\n",
       "       [9.73333938e-01, 7.29565424e-02, 3.60561876e-01, ...,\n",
       "        9.81109204e-01, 3.04325341e-01, 3.28456559e-02]])"
      ]
     },
     "execution_count": 51,
     "metadata": {},
     "output_type": "execute_result"
    }
   ],
   "source": [
    "gammas"
   ]
  },
  {
   "cell_type": "code",
   "execution_count": 52,
   "metadata": {},
   "outputs": [
    {
     "data": {
      "text/plain": [
       "array([[2.66659722e-02, 6.81577592e-05, 1.55921076e-02, ...,\n",
       "        1.88907910e-02, 6.68364452e-01, 5.31177751e-02],\n",
       "       [8.99672043e-08, 9.26975300e-01, 6.23846016e-01, ...,\n",
       "        4.88024653e-09, 2.73102069e-02, 9.14036569e-01],\n",
       "       [9.73333938e-01, 7.29565424e-02, 3.60561876e-01, ...,\n",
       "        9.81109204e-01, 3.04325341e-01, 3.28456559e-02]])"
      ]
     },
     "execution_count": 52,
     "metadata": {},
     "output_type": "execute_result"
    }
   ],
   "source": [
    "gammas_u"
   ]
  },
  {
   "cell_type": "code",
   "execution_count": 53,
   "metadata": {},
   "outputs": [],
   "source": [
    "m,c,p = M_step(data=gmm_sample, gammas = gammas)"
   ]
  },
  {
   "cell_type": "code",
   "execution_count": 54,
   "metadata": {},
   "outputs": [],
   "source": [
    "m_u,c_u,p_u = M_step_unstable(data=gmm_sample, gammas = gammas)"
   ]
  },
  {
   "cell_type": "code",
   "execution_count": 55,
   "metadata": {},
   "outputs": [
    {
     "data": {
      "text/plain": [
       "[array([ 0.0959477 , -0.06402288]),\n",
       " array([1.00767133, 1.90985177]),\n",
       " array([ 2.10127914, -0.16692937])]"
      ]
     },
     "execution_count": 55,
     "metadata": {},
     "output_type": "execute_result"
    }
   ],
   "source": [
    "m"
   ]
  },
  {
   "cell_type": "code",
   "execution_count": 56,
   "metadata": {},
   "outputs": [
    {
     "data": {
      "text/plain": [
       "[array([ 0.0959477 , -0.06402288]),\n",
       " array([1.00767133, 1.90985177]),\n",
       " array([ 2.10127914, -0.16692937])]"
      ]
     },
     "execution_count": 56,
     "metadata": {},
     "output_type": "execute_result"
    }
   ],
   "source": [
    "m_u"
   ]
  },
  {
   "cell_type": "code",
   "execution_count": 57,
   "metadata": {},
   "outputs": [
    {
     "data": {
      "text/plain": [
       "[array([[ 1.11830989, -0.27656047],\n",
       "        [-0.27656047,  0.54629113]]), array([[0.53613431, 0.25060512],\n",
       "        [0.25060512, 0.50292493]]), array([[ 0.49471068, -0.19613256],\n",
       "        [-0.19613256,  0.96081418]])]"
      ]
     },
     "execution_count": 57,
     "metadata": {},
     "output_type": "execute_result"
    }
   ],
   "source": [
    "c"
   ]
  },
  {
   "cell_type": "code",
   "execution_count": 58,
   "metadata": {},
   "outputs": [
    {
     "data": {
      "text/plain": [
       "[array([[ 1.11830989, -0.27656047],\n",
       "        [-0.27656047,  0.54629113]]), array([[0.53613431, 0.25060512],\n",
       "        [0.25060512, 0.50292493]]), array([[ 0.49471068, -0.19613256],\n",
       "        [-0.19613256,  0.96081418]])]"
      ]
     },
     "execution_count": 58,
     "metadata": {},
     "output_type": "execute_result"
    }
   ],
   "source": [
    "c_u"
   ]
  },
  {
   "cell_type": "code",
   "execution_count": 59,
   "metadata": {},
   "outputs": [
    {
     "data": {
      "text/plain": [
       "array([0.32604719, 0.24409716, 0.42985565])"
      ]
     },
     "execution_count": 59,
     "metadata": {},
     "output_type": "execute_result"
    }
   ],
   "source": [
    "p"
   ]
  },
  {
   "cell_type": "code",
   "execution_count": 60,
   "metadata": {},
   "outputs": [
    {
     "data": {
      "text/plain": [
       "array([0.32604719, 0.24409716, 0.42985565])"
      ]
     },
     "execution_count": 60,
     "metadata": {},
     "output_type": "execute_result"
    }
   ],
   "source": [
    "p_u"
   ]
  },
  {
   "cell_type": "code",
   "execution_count": 62,
   "metadata": {},
   "outputs": [],
   "source": [
    "x = np.ones((1000, 2))"
   ]
  },
  {
   "cell_type": "code",
   "execution_count": 63,
   "metadata": {},
   "outputs": [
    {
     "data": {
      "text/plain": [
       "(array([-1.96353428, -2.38718321, -1.96353428]),\n",
       " array([[[2.35924316, 0.93248933],\n",
       "         [2.23242706, 0.88010561],\n",
       "         [2.59563067, 2.43275724],\n",
       "         ...,\n",
       "         [0.91022269, 1.57255203],\n",
       "         [2.88183663, 0.888772  ],\n",
       "         [1.68080468, 0.94179825]],\n",
       " \n",
       "        [[2.35924316, 0.93248933],\n",
       "         [2.23242706, 0.88010561],\n",
       "         [2.59563067, 2.43275724],\n",
       "         ...,\n",
       "         [0.91022269, 1.57255203],\n",
       "         [2.88183663, 0.888772  ],\n",
       "         [1.68080468, 0.94179825]],\n",
       " \n",
       "        [[2.35924316, 0.93248933],\n",
       "         [2.23242706, 0.88010561],\n",
       "         [2.59563067, 2.43275724],\n",
       "         ...,\n",
       "         [0.91022269, 1.57255203],\n",
       "         [2.88183663, 0.888772  ],\n",
       "         [1.68080468, 0.94179825]]]),\n",
       " None)"
      ]
     },
     "execution_count": 63,
     "metadata": {},
     "output_type": "execute_result"
    }
   ],
   "source": [
    "E_step(data=gmm_sample,\n",
    "       means=np.array(mus), \n",
    "       covariances=np.array(sigmas),\n",
    "       data_membership_weights=np.ones((1000, 3))/3)"
   ]
  },
  {
   "cell_type": "code",
   "execution_count": 64,
   "metadata": {},
   "outputs": [],
   "source": [
    "x1, x2, x3 = _"
   ]
  },
  {
   "cell_type": "code",
   "execution_count": 66,
   "metadata": {},
   "outputs": [
    {
     "data": {
      "text/plain": [
       "(3, 1000, 2)"
      ]
     },
     "execution_count": 66,
     "metadata": {},
     "output_type": "execute_result"
    }
   ],
   "source": [
    "x2.shape"
   ]
  },
  {
   "cell_type": "code",
   "execution_count": 60,
   "metadata": {},
   "outputs": [
    {
     "data": {
      "text/plain": [
       "(3, 2)"
      ]
     },
     "execution_count": 60,
     "metadata": {},
     "output_type": "execute_result"
    }
   ],
   "source": [
    "np.array(mus).shape"
   ]
  },
  {
   "cell_type": "code",
   "execution_count": 50,
   "metadata": {},
   "outputs": [],
   "source": [
    "def fun(x):\n",
    "    return 4 "
   ]
  },
  {
   "cell_type": "code",
   "execution_count": 51,
   "metadata": {},
   "outputs": [],
   "source": [
    "x=np.ones((3,5))"
   ]
  }
 ],
 "metadata": {
  "kernelspec": {
   "display_name": "Python 3",
   "language": "python",
   "name": "python3"
  },
  "language_info": {
   "codemirror_mode": {
    "name": "ipython",
    "version": 3
   },
   "file_extension": ".py",
   "mimetype": "text/x-python",
   "name": "python",
   "nbconvert_exporter": "python",
   "pygments_lexer": "ipython3",
   "version": "3.7.1"
  }
 },
 "nbformat": 4,
 "nbformat_minor": 4
}
